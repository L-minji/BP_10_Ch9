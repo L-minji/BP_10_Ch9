{
  "nbformat": 4,
  "nbformat_minor": 0,
  "metadata": {
    "colab": {
      "provenance": [],
      "authorship_tag": "ABX9TyMQ7FPmboVsSwcLCpxBx4op",
      "include_colab_link": true
    },
    "kernelspec": {
      "name": "python3",
      "display_name": "Python 3"
    },
    "language_info": {
      "name": "python"
    }
  },
  "cells": [
    {
      "cell_type": "markdown",
      "metadata": {
        "id": "view-in-github",
        "colab_type": "text"
      },
      "source": [
        "<a href=\"https://colab.research.google.com/github/L-minji/BP_10_Ch9/blob/main/BP_10_EX_Ch9.ipynb\" target=\"_parent\"><img src=\"https://colab.research.google.com/assets/colab-badge.svg\" alt=\"Open In Colab\"/></a>"
      ]
    },
    {
      "cell_type": "code",
      "execution_count": 1,
      "metadata": {
        "colab": {
          "base_uri": "https://localhost:8080/"
        },
        "id": "u4qlsu2fjCYC",
        "outputId": "2eedf8ed-f673-4d81-d8d7-6199de6527b5"
      },
      "outputs": [
        {
          "output_type": "stream",
          "name": "stdout",
          "text": [
            "정수를 입력하시오: 50\n",
            "정수를 입력하시오: 80\n",
            "정수를 입력하시오: 1\n",
            "정수를 입력하시오: 54\n",
            "정수를 입력하시오: 24\n",
            "평균= 41.8\n"
          ]
        }
      ],
      "source": [
        "#연습문제 9장\n",
        "#1번 문제 숫자들의 평균 계산\n",
        "alist = []        #공백 리스트를 생성한다\n",
        "sum = 0\n",
        "for i in range(5):\n",
        "  i = int(input(\"정수를 입력하시오: \"))\n",
        "  alist.append(i)  #사용자한테서 받은 정수를 리스트에 추가한다\n",
        "for i in alist:\n",
        "  sum += i\n",
        "avg = sum/len(alist)  #len은 내장 함수이다\n",
        "print(\"평균=\", avg)"
      ]
    },
    {
      "cell_type": "code",
      "source": [
        "#2번 문제 주사위 값들의 빈도 계산\n",
        "import random\n",
        "counters = [0, 0, 0, 0, 0, 0]\n",
        "for i in range(1000):\n",
        "  value = random.randint(0, 5)\n",
        "  counters[value] = counters[value] + 1\n",
        "\n",
        "for i in range(6) :\n",
        "  print(\"주사위가 \", i+1, \"인 경우는 \", counters[i], \"번\")"
      ],
      "metadata": {
        "colab": {
          "base_uri": "https://localhost:8080/"
        },
        "id": "ApVqmMltjlmy",
        "outputId": "a5508040-c011-4a05-f627-1882413c396e"
      },
      "execution_count": 2,
      "outputs": [
        {
          "output_type": "stream",
          "name": "stdout",
          "text": [
            "주사위가  1 인 경우는  176 번\n",
            "주사위가  2 인 경우는  164 번\n",
            "주사위가  3 인 경우는  168 번\n",
            "주사위가  4 인 경우는  163 번\n",
            "주사위가  5 인 경우는  159 번\n",
            "주사위가  6 인 경우는  170 번\n"
          ]
        }
      ]
    },
    {
      "cell_type": "code",
      "source": [
        "#3번 문제 딕셔너리 사용\n",
        "contacts = { }\n",
        "while True:\n",
        "  name = input(\"(입력모드)이름을 입력하시오: \")\n",
        "  if not name:\n",
        "    break;\n",
        "    tel = input(\"전화번호를 입력하시오: \")\n",
        "    contacts[name] = tel\n",
        "while True:\n",
        "  name = input(\"(검색모드)이름을 입력하시오: \")\n",
        "  if not name:\n",
        "    break;\n",
        "    if name in contacts :\n",
        "      print(name, \"의 전화번호는\", contacts[name], \"입니다.\")"
      ],
      "metadata": {
        "colab": {
          "base_uri": "https://localhost:8080/",
          "height": 529
        },
        "id": "yuKIM4V_j69i",
        "outputId": "ec777e06-a1b4-4e59-9c0e-a74ca3db77bc"
      },
      "execution_count": 12,
      "outputs": [
        {
          "name": "stdout",
          "output_type": "stream",
          "text": [
            "(입력모드)이름을 입력하시오: 이미닞\n",
            "(입력모드)이름을 입력하시오: 이민지\n",
            "(입력모드)이름을 입력하시오: 이민지\n",
            "(입력모드)이름을 입력하시오: 이민지\n",
            "(입력모드)이름을 입력하시오: 이민지\n",
            "(입력모드)이름을 입력하시오: 이민지\n",
            "(입력모드)이름을 입력하시오: 이민지\n"
          ]
        },
        {
          "output_type": "error",
          "ename": "KeyboardInterrupt",
          "evalue": "ignored",
          "traceback": [
            "\u001b[0;31m---------------------------------------------------------------------------\u001b[0m",
            "\u001b[0;31mKeyboardInterrupt\u001b[0m                         Traceback (most recent call last)",
            "\u001b[0;32m<ipython-input-12-b56053402812>\u001b[0m in \u001b[0;36m<module>\u001b[0;34m\u001b[0m\n\u001b[1;32m      2\u001b[0m \u001b[0mcontacts\u001b[0m \u001b[0;34m=\u001b[0m \u001b[0;34m{\u001b[0m \u001b[0;34m}\u001b[0m\u001b[0;34m\u001b[0m\u001b[0;34m\u001b[0m\u001b[0m\n\u001b[1;32m      3\u001b[0m \u001b[0;32mwhile\u001b[0m \u001b[0;32mTrue\u001b[0m\u001b[0;34m:\u001b[0m\u001b[0;34m\u001b[0m\u001b[0;34m\u001b[0m\u001b[0m\n\u001b[0;32m----> 4\u001b[0;31m   \u001b[0mname\u001b[0m \u001b[0;34m=\u001b[0m \u001b[0minput\u001b[0m\u001b[0;34m(\u001b[0m\u001b[0;34m\"(입력모드)이름을 입력하시오: \"\u001b[0m\u001b[0;34m)\u001b[0m\u001b[0;34m\u001b[0m\u001b[0;34m\u001b[0m\u001b[0m\n\u001b[0m\u001b[1;32m      5\u001b[0m   \u001b[0;32mif\u001b[0m \u001b[0;32mnot\u001b[0m \u001b[0mname\u001b[0m\u001b[0;34m:\u001b[0m\u001b[0;34m\u001b[0m\u001b[0;34m\u001b[0m\u001b[0m\n\u001b[1;32m      6\u001b[0m     \u001b[0;32mbreak\u001b[0m\u001b[0;34m;\u001b[0m\u001b[0;34m\u001b[0m\u001b[0;34m\u001b[0m\u001b[0m\n",
            "\u001b[0;32m/usr/local/lib/python3.7/dist-packages/ipykernel/kernelbase.py\u001b[0m in \u001b[0;36mraw_input\u001b[0;34m(self, prompt)\u001b[0m\n\u001b[1;32m    861\u001b[0m             \u001b[0mself\u001b[0m\u001b[0;34m.\u001b[0m\u001b[0m_parent_ident\u001b[0m\u001b[0;34m,\u001b[0m\u001b[0;34m\u001b[0m\u001b[0;34m\u001b[0m\u001b[0m\n\u001b[1;32m    862\u001b[0m             \u001b[0mself\u001b[0m\u001b[0;34m.\u001b[0m\u001b[0m_parent_header\u001b[0m\u001b[0;34m,\u001b[0m\u001b[0;34m\u001b[0m\u001b[0;34m\u001b[0m\u001b[0m\n\u001b[0;32m--> 863\u001b[0;31m             \u001b[0mpassword\u001b[0m\u001b[0;34m=\u001b[0m\u001b[0;32mFalse\u001b[0m\u001b[0;34m,\u001b[0m\u001b[0;34m\u001b[0m\u001b[0;34m\u001b[0m\u001b[0m\n\u001b[0m\u001b[1;32m    864\u001b[0m         )\n\u001b[1;32m    865\u001b[0m \u001b[0;34m\u001b[0m\u001b[0m\n",
            "\u001b[0;32m/usr/local/lib/python3.7/dist-packages/ipykernel/kernelbase.py\u001b[0m in \u001b[0;36m_input_request\u001b[0;34m(self, prompt, ident, parent, password)\u001b[0m\n\u001b[1;32m    902\u001b[0m             \u001b[0;32mexcept\u001b[0m \u001b[0mKeyboardInterrupt\u001b[0m\u001b[0;34m:\u001b[0m\u001b[0;34m\u001b[0m\u001b[0;34m\u001b[0m\u001b[0m\n\u001b[1;32m    903\u001b[0m                 \u001b[0;31m# re-raise KeyboardInterrupt, to truncate traceback\u001b[0m\u001b[0;34m\u001b[0m\u001b[0;34m\u001b[0m\u001b[0;34m\u001b[0m\u001b[0m\n\u001b[0;32m--> 904\u001b[0;31m                 \u001b[0;32mraise\u001b[0m \u001b[0mKeyboardInterrupt\u001b[0m\u001b[0;34m(\u001b[0m\u001b[0;34m\"Interrupted by user\"\u001b[0m\u001b[0;34m)\u001b[0m \u001b[0;32mfrom\u001b[0m \u001b[0;32mNone\u001b[0m\u001b[0;34m\u001b[0m\u001b[0;34m\u001b[0m\u001b[0m\n\u001b[0m\u001b[1;32m    905\u001b[0m             \u001b[0;32mexcept\u001b[0m \u001b[0mException\u001b[0m \u001b[0;32mas\u001b[0m \u001b[0me\u001b[0m\u001b[0;34m:\u001b[0m\u001b[0;34m\u001b[0m\u001b[0;34m\u001b[0m\u001b[0m\n\u001b[1;32m    906\u001b[0m                 \u001b[0mself\u001b[0m\u001b[0;34m.\u001b[0m\u001b[0mlog\u001b[0m\u001b[0;34m.\u001b[0m\u001b[0mwarning\u001b[0m\u001b[0;34m(\u001b[0m\u001b[0;34m\"Invalid Message:\"\u001b[0m\u001b[0;34m,\u001b[0m \u001b[0mexc_info\u001b[0m\u001b[0;34m=\u001b[0m\u001b[0;32mTrue\u001b[0m\u001b[0;34m)\u001b[0m\u001b[0;34m\u001b[0m\u001b[0;34m\u001b[0m\u001b[0m\n",
            "\u001b[0;31mKeyboardInterrupt\u001b[0m: Interrupted by user"
          ]
        }
      ]
    },
    {
      "cell_type": "code",
      "source": [
        "#4번 문제\n",
        "import turtle\n",
        "import random\n",
        "t = turtle.Turtle()\n",
        "t.shape(\"turtle\")\n",
        "def draw_square(x, y, c):\n",
        "  t.up()\n",
        "  t.goto(x, y)\n",
        "  t.down()\n",
        "  t.color(\"black\",c)\n",
        "  t.begin_fill()\n",
        "  t.forward(100)\n",
        "  t.left(90)\n",
        "  t.forward(100)\n",
        "  t.left(90)\n",
        "  t .forward(100)\n",
        "  t.left(90)\n",
        "  t.forward(100)\n",
        "  t.left(90)\n",
        "  t.end_fill()\n",
        "for c in [\"yellow\", \"red\", \"purple\", \"blue\"]:      #색상을 호출한다\n",
        " x = random.randint(-100, 100)\n",
        " y = random.randint(-100, 100)\n",
        " draw_square(x, y, c)"
      ],
      "metadata": {
        "id": "54GrQO0Pn1aa"
      },
      "execution_count": null,
      "outputs": []
    },
    {
      "cell_type": "code",
      "source": [
        "#5번 문제 다각형 그리기\n",
        "import turtle\n",
        "import random\n",
        "t = turtle.Turtle()\n",
        "s = turtle.Screen()\n",
        "def draw_shape(t, c, length, sides, x, y):\n",
        "  t.up()\n",
        "  t.goto(x, y)\n",
        "  t.down()\n",
        "  t.fillcolor(c)\n",
        "  angle = 360.0 / sides\n",
        "  t.begin_fill()\n",
        "  for dist in range(sides):\n",
        "   t.forward(length)\n",
        "   t.left(angle)\n",
        "   t.end_fill()\n",
        "for i in range(10):\n",
        "  color = random.choice([ 'white', 'yellow', 'blue', 'skyblue', 'orange', 'green' ])\n",
        "  side_length = random.randint(10, 100)   #랜덤 크기의 다격형을 그린다\n",
        "  sides = random.randint(3, 10)\n",
        "  x = random.randint(-200, 200)\n",
        "  y = random.randint(-200, 200)\n",
        "  draw_shape(t, color, side_length, sides, x, y)\n",
        "t._screen.exitonclick()"
      ],
      "metadata": {
        "id": "VQm8yv9an_VS"
      },
      "execution_count": null,
      "outputs": []
    },
    {
      "cell_type": "code",
      "source": [
        "#6번 문제 많은 별들 그리기\n",
        "import turtle\n",
        "import random\n",
        "\n",
        "t = turtle.Turtle()\n",
        "s = turtle.Screen()\n",
        "s.bgcolor(\"black\")   #배경을 검정색으로 한다\n",
        "\n",
        "def draw_star(aturtle, colour, side_length, x, y):\n",
        "  aturtle.color(colour)\n",
        "  aturtle.begin_fill()\n",
        "  aturtle.penup()\n",
        "  aturtle.goto(x, y)\n",
        "  aturtle.pendown()\n",
        "  for i in range(5):\n",
        "    aturtle.forward(side_length)\n",
        "    aturtle.right(144)\n",
        "    aturtle.forward(side_length)\n",
        "    aturtle.end_fill()\n",
        "\n",
        "for i in range(20):\n",
        "  color = random.choice([ 'white', 'yellow', 'blue', 'skyblue', 'orange', 'green' ])\n",
        "  side_length = random.randint(10, 100)\n",
        "  x = random.randint(-200, 200)\n",
        "  y = random.randint(-200, 200)\n",
        "  draw_star(t, color, side_length, x, y)"
      ],
      "metadata": {
        "id": "EGQ2JLxVpStq"
      },
      "execution_count": null,
      "outputs": []
    },
    {
      "cell_type": "code",
      "source": [
        "#7번 문제\n",
        "domains = { \"kr\": \"대한민국\", \"us\": \"미국\",\"jp\": \"일본\", \"de\": \"독일\", \"sk\": \"슬로바키아\", \"hu\": \"헝가리\", \"no\": \"노르웨이\" }\n",
        "for k, v in domains.items():\n",
        "  print (k, \": \", v)\n"
      ],
      "metadata": {
        "colab": {
          "base_uri": "https://localhost:8080/"
        },
        "id": "wEloXfhWqW1x",
        "outputId": "82a79b52-2e60-4d9b-cf5d-d121441447d0"
      },
      "execution_count": 14,
      "outputs": [
        {
          "output_type": "stream",
          "name": "stdout",
          "text": [
            "kr :  대한민국\n",
            "us :  미국\n",
            "jp :  일본\n",
            "de :  독일\n",
            "sk :  슬로바키아\n",
            "hu :  헝가리\n",
            "no :  노르웨이\n"
          ]
        }
      ]
    },
    {
      "cell_type": "code",
      "source": [
        "#8번 문제\n",
        "problems = {'파이썬': '최근에 가장 떠오르는 프로그래밍 언어',\n",
        "            '변수': '데이터를 저장하는 메모리 공간',\n",
        "            '함수': '작업을 수행하는 문장들의 집합에 이름을 붙인것',\n",
        "            '리스트': '서로 관련이 없는 항목들의 모임',}\n",
        "def show_words(problems):\n",
        "  display_message = \"\"\n",
        "  i=1\n",
        "  for word in problems.keys():\n",
        "    display_message += \"(\"+str(i)+\")\"\n",
        "    display_message += word + \" \"\n",
        "    i+=1\n",
        "    print( display_message)\n",
        "for meaning in problems.values():\n",
        "  print(\"다음은 어떤 단어에 대한 설명일까요? \")\n",
        "  print(\"\\\"\"+meaning+\"\\\"\")\n",
        "  correct = False\n",
        "  while not correct:\n",
        "    show_words(problems)\n",
        "    guessed_word = input(\"\")\n",
        "    if problems[guessed_word] == meaning:\n",
        "      print(\"정답입니다. !\")\n",
        "      correct = True\n",
        "  else:\n",
        "    print(\"정답이 아닙니다.\")\n",
        "\n",
        "\n",
        "\n"
      ],
      "metadata": {
        "colab": {
          "base_uri": "https://localhost:8080/",
          "height": 376
        },
        "id": "vzBTemwaqpDi",
        "outputId": "c8103e12-4603-4c67-8ea7-d73049ff8f3b"
      },
      "execution_count": 25,
      "outputs": [
        {
          "name": "stdout",
          "output_type": "stream",
          "text": [
            "다음은 어떤 단어에 대한 설명일까요? \n",
            "\"최근에 가장 떠오르는 프로그래밍 언어\"\n",
            "(1)파이썬 \n",
            "(1)파이썬 (2)변수 \n",
            "(1)파이썬 (2)변수 (3)함수 \n",
            "(1)파이썬 (2)변수 (3)함수 (4)리스트 \n",
            "1\n"
          ]
        },
        {
          "output_type": "error",
          "ename": "KeyError",
          "evalue": "ignored",
          "traceback": [
            "\u001b[0;31m---------------------------------------------------------------------------\u001b[0m",
            "\u001b[0;31mKeyError\u001b[0m                                  Traceback (most recent call last)",
            "\u001b[0;32m<ipython-input-25-e2d51c468474>\u001b[0m in \u001b[0;36m<module>\u001b[0;34m\u001b[0m\n\u001b[1;32m     19\u001b[0m     \u001b[0mshow_words\u001b[0m\u001b[0;34m(\u001b[0m\u001b[0mproblems\u001b[0m\u001b[0;34m)\u001b[0m\u001b[0;34m\u001b[0m\u001b[0;34m\u001b[0m\u001b[0m\n\u001b[1;32m     20\u001b[0m     \u001b[0mguessed_word\u001b[0m \u001b[0;34m=\u001b[0m \u001b[0minput\u001b[0m\u001b[0;34m(\u001b[0m\u001b[0;34m\"\"\u001b[0m\u001b[0;34m)\u001b[0m\u001b[0;34m\u001b[0m\u001b[0;34m\u001b[0m\u001b[0m\n\u001b[0;32m---> 21\u001b[0;31m     \u001b[0;32mif\u001b[0m \u001b[0mproblems\u001b[0m\u001b[0;34m[\u001b[0m\u001b[0mguessed_word\u001b[0m\u001b[0;34m]\u001b[0m \u001b[0;34m==\u001b[0m \u001b[0mmeaning\u001b[0m\u001b[0;34m:\u001b[0m\u001b[0;34m\u001b[0m\u001b[0;34m\u001b[0m\u001b[0m\n\u001b[0m\u001b[1;32m     22\u001b[0m       \u001b[0mprint\u001b[0m\u001b[0;34m(\u001b[0m\u001b[0;34m\"정답입니다. !\"\u001b[0m\u001b[0;34m)\u001b[0m\u001b[0;34m\u001b[0m\u001b[0;34m\u001b[0m\u001b[0m\n\u001b[1;32m     23\u001b[0m       \u001b[0mcorrect\u001b[0m \u001b[0;34m=\u001b[0m \u001b[0;32mTrue\u001b[0m\u001b[0;34m\u001b[0m\u001b[0;34m\u001b[0m\u001b[0m\n",
            "\u001b[0;31mKeyError\u001b[0m: '1'"
          ]
        }
      ]
    }
  ]
}